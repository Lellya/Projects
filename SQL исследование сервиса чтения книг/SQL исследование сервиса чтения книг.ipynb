{
 "cells": [
  {
   "cell_type": "markdown",
   "id": "d852ff60",
   "metadata": {},
   "source": [
    "## SQL исследование сервиса чтения книг"
   ]
  },
  {
   "cell_type": "markdown",
   "id": "76abf0c1",
   "metadata": {},
   "source": [
    "Стартап компания купила сервис для чтения книг по подписке.\n",
    "**Задача исследования** - проанализировать базу данных, изучить информацию о книгах, издательствах, авторах, чтобы дать рекомендации для развития продукта."
   ]
  },
  {
   "cell_type": "markdown",
   "id": "fb7a0c20",
   "metadata": {},
   "source": [
    "### Описание данных\n",
    "\n",
    "**Таблица `books`**\n",
    "\n",
    "Содержит данные о книгах:\n",
    "\n",
    "- `book_id` — идентификатор книги;\n",
    "- `author_id` — идентификатор автора;\n",
    "- `title` — название книги;\n",
    "- `num_pages` — количество страниц;\n",
    "- `publication_date` — дата публикации книги;\n",
    "- `publisher_id` — идентификатор издателя.\n",
    "\n",
    "**Таблица `authors`**\n",
    "\n",
    "Содержит данные об авторах:\n",
    "\n",
    "- `author_id` — идентификатор автора;\n",
    "- `author` — имя автора.\n",
    "\n",
    "**Таблица `publishers`**\n",
    "\n",
    "Содержит данные об издательствах:\n",
    "\n",
    "- `publisher_id` — идентификатор издательства;\n",
    "- `publisher` — название издательства;\n",
    "\n",
    "**Таблица `ratings`**\n",
    "\n",
    "Содержит данные о пользовательских оценках книг:\n",
    "\n",
    "- `rating_id` — идентификатор оценки;\n",
    "- `book_id` — идентификатор книги;\n",
    "- `username` — имя пользователя, оставившего оценку;\n",
    "- `rating` — оценка книги.\n",
    "\n",
    "**Таблица `reviews`**\n",
    "\n",
    "Содержит данные о пользовательских обзорах на книги:\n",
    "\n",
    "- `review_id` — идентификатор обзора;\n",
    "- `book_id` — идентификатор книги;\n",
    "- `username` — имя пользователя, написавшего обзор;\n",
    "- `text` — текст обзора."
   ]
  },
  {
   "cell_type": "markdown",
   "id": "ed59b960",
   "metadata": {},
   "source": [
    "## Подключение к базе данных"
   ]
  },
  {
   "cell_type": "code",
   "execution_count": 1,
   "id": "5c6f7bfe",
   "metadata": {},
   "outputs": [],
   "source": [
    "# импортируем библиотеки\n",
    "import pandas as pd\n",
    "from sqlalchemy import create_engine\n",
    "# устанавливаем параметры\n",
    "db_config = {'user': 'praktikum_student', # имя пользователя\n",
    "'pwd': 'Sdf4$2;d-d30pp', # пароль\n",
    "'host': 'rc1b-wcoijxj3yxfsf3fs.mdb.yandexcloud.net',\n",
    "'port': 6432, # порт подключения\n",
    "'db': 'data-analyst-final-project-db'} # название базы данных\n",
    "connection_string = 'postgresql://{}:{}@{}:{}/{}'.format(db_config['user'],\n",
    " db_config['pwd'],\n",
    " db_config['host'],\n",
    " db_config['port'],\n",
    " db_config['db'])\n",
    "# сохраняем коннектор\n",
    "engine = create_engine(connection_string, connect_args={'sslmode':'require'}) "
   ]
  },
  {
   "cell_type": "markdown",
   "id": "4e52f3de",
   "metadata": {},
   "source": [
    "Посмотрим на данные"
   ]
  },
  {
   "cell_type": "code",
   "execution_count": 2,
   "id": "46655486",
   "metadata": {},
   "outputs": [
    {
     "data": {
      "text/html": [
       "<div>\n",
       "<style scoped>\n",
       "    .dataframe tbody tr th:only-of-type {\n",
       "        vertical-align: middle;\n",
       "    }\n",
       "\n",
       "    .dataframe tbody tr th {\n",
       "        vertical-align: top;\n",
       "    }\n",
       "\n",
       "    .dataframe thead th {\n",
       "        text-align: right;\n",
       "    }\n",
       "</style>\n",
       "<table border=\"1\" class=\"dataframe\">\n",
       "  <thead>\n",
       "    <tr style=\"text-align: right;\">\n",
       "      <th></th>\n",
       "      <th>book_id</th>\n",
       "      <th>author_id</th>\n",
       "      <th>title</th>\n",
       "      <th>num_pages</th>\n",
       "      <th>publication_date</th>\n",
       "      <th>publisher_id</th>\n",
       "    </tr>\n",
       "  </thead>\n",
       "  <tbody>\n",
       "    <tr>\n",
       "      <th>0</th>\n",
       "      <td>1</td>\n",
       "      <td>546</td>\n",
       "      <td>'Salem's Lot</td>\n",
       "      <td>594</td>\n",
       "      <td>2005-11-01</td>\n",
       "      <td>93</td>\n",
       "    </tr>\n",
       "    <tr>\n",
       "      <th>1</th>\n",
       "      <td>2</td>\n",
       "      <td>465</td>\n",
       "      <td>1 000 Places to See Before You Die</td>\n",
       "      <td>992</td>\n",
       "      <td>2003-05-22</td>\n",
       "      <td>336</td>\n",
       "    </tr>\n",
       "    <tr>\n",
       "      <th>2</th>\n",
       "      <td>3</td>\n",
       "      <td>407</td>\n",
       "      <td>13 Little Blue Envelopes (Little Blue Envelope...</td>\n",
       "      <td>322</td>\n",
       "      <td>2010-12-21</td>\n",
       "      <td>135</td>\n",
       "    </tr>\n",
       "    <tr>\n",
       "      <th>3</th>\n",
       "      <td>4</td>\n",
       "      <td>82</td>\n",
       "      <td>1491: New Revelations of the Americas Before C...</td>\n",
       "      <td>541</td>\n",
       "      <td>2006-10-10</td>\n",
       "      <td>309</td>\n",
       "    </tr>\n",
       "    <tr>\n",
       "      <th>4</th>\n",
       "      <td>5</td>\n",
       "      <td>125</td>\n",
       "      <td>1776</td>\n",
       "      <td>386</td>\n",
       "      <td>2006-07-04</td>\n",
       "      <td>268</td>\n",
       "    </tr>\n",
       "  </tbody>\n",
       "</table>\n",
       "</div>"
      ],
      "text/plain": [
       "   book_id  author_id                                              title  \\\n",
       "0        1        546                                       'Salem's Lot   \n",
       "1        2        465                 1 000 Places to See Before You Die   \n",
       "2        3        407  13 Little Blue Envelopes (Little Blue Envelope...   \n",
       "3        4         82  1491: New Revelations of the Americas Before C...   \n",
       "4        5        125                                               1776   \n",
       "\n",
       "   num_pages publication_date  publisher_id  \n",
       "0        594       2005-11-01            93  \n",
       "1        992       2003-05-22           336  \n",
       "2        322       2010-12-21           135  \n",
       "3        541       2006-10-10           309  \n",
       "4        386       2006-07-04           268  "
      ]
     },
     "metadata": {},
     "output_type": "display_data"
    },
    {
     "name": "stdout",
     "output_type": "stream",
     "text": [
      "<class 'pandas.core.frame.DataFrame'>\n",
      "RangeIndex: 1000 entries, 0 to 999\n",
      "Data columns (total 6 columns):\n",
      " #   Column            Non-Null Count  Dtype \n",
      "---  ------            --------------  ----- \n",
      " 0   book_id           1000 non-null   int64 \n",
      " 1   author_id         1000 non-null   int64 \n",
      " 2   title             1000 non-null   object\n",
      " 3   num_pages         1000 non-null   int64 \n",
      " 4   publication_date  1000 non-null   object\n",
      " 5   publisher_id      1000 non-null   int64 \n",
      "dtypes: int64(4), object(2)\n",
      "memory usage: 47.0+ KB\n",
      "None\n"
     ]
    }
   ],
   "source": [
    "books = (\n",
    "    ''' SELECT * \n",
    "        FROM books\n",
    "    ''')\n",
    "books = pd.io.sql.read_sql(books, con = engine) \n",
    "display(books.head())\n",
    "print(books.info())"
   ]
  },
  {
   "cell_type": "code",
   "execution_count": 3,
   "id": "3318fd01",
   "metadata": {
    "scrolled": true
   },
   "outputs": [
    {
     "data": {
      "text/html": [
       "<div>\n",
       "<style scoped>\n",
       "    .dataframe tbody tr th:only-of-type {\n",
       "        vertical-align: middle;\n",
       "    }\n",
       "\n",
       "    .dataframe tbody tr th {\n",
       "        vertical-align: top;\n",
       "    }\n",
       "\n",
       "    .dataframe thead th {\n",
       "        text-align: right;\n",
       "    }\n",
       "</style>\n",
       "<table border=\"1\" class=\"dataframe\">\n",
       "  <thead>\n",
       "    <tr style=\"text-align: right;\">\n",
       "      <th></th>\n",
       "      <th>author_id</th>\n",
       "      <th>author</th>\n",
       "    </tr>\n",
       "  </thead>\n",
       "  <tbody>\n",
       "    <tr>\n",
       "      <th>0</th>\n",
       "      <td>1</td>\n",
       "      <td>A.S. Byatt</td>\n",
       "    </tr>\n",
       "    <tr>\n",
       "      <th>1</th>\n",
       "      <td>2</td>\n",
       "      <td>Aesop/Laura Harris/Laura Gibbs</td>\n",
       "    </tr>\n",
       "    <tr>\n",
       "      <th>2</th>\n",
       "      <td>3</td>\n",
       "      <td>Agatha Christie</td>\n",
       "    </tr>\n",
       "    <tr>\n",
       "      <th>3</th>\n",
       "      <td>4</td>\n",
       "      <td>Alan Brennert</td>\n",
       "    </tr>\n",
       "    <tr>\n",
       "      <th>4</th>\n",
       "      <td>5</td>\n",
       "      <td>Alan Moore/David   Lloyd</td>\n",
       "    </tr>\n",
       "  </tbody>\n",
       "</table>\n",
       "</div>"
      ],
      "text/plain": [
       "   author_id                          author\n",
       "0          1                      A.S. Byatt\n",
       "1          2  Aesop/Laura Harris/Laura Gibbs\n",
       "2          3                 Agatha Christie\n",
       "3          4                   Alan Brennert\n",
       "4          5        Alan Moore/David   Lloyd"
      ]
     },
     "metadata": {},
     "output_type": "display_data"
    },
    {
     "name": "stdout",
     "output_type": "stream",
     "text": [
      "<class 'pandas.core.frame.DataFrame'>\n",
      "RangeIndex: 636 entries, 0 to 635\n",
      "Data columns (total 2 columns):\n",
      " #   Column     Non-Null Count  Dtype \n",
      "---  ------     --------------  ----- \n",
      " 0   author_id  636 non-null    int64 \n",
      " 1   author     636 non-null    object\n",
      "dtypes: int64(1), object(1)\n",
      "memory usage: 10.1+ KB\n",
      "None\n"
     ]
    }
   ],
   "source": [
    "authors = (\n",
    "    ''' SELECT * \n",
    "        FROM authors\n",
    "    ''')\n",
    "authors = pd.io.sql.read_sql(authors, con = engine) \n",
    "display(authors.head())\n",
    "print(authors.info())"
   ]
  },
  {
   "cell_type": "code",
   "execution_count": 4,
   "id": "72ee5da3",
   "metadata": {},
   "outputs": [
    {
     "data": {
      "text/html": [
       "<div>\n",
       "<style scoped>\n",
       "    .dataframe tbody tr th:only-of-type {\n",
       "        vertical-align: middle;\n",
       "    }\n",
       "\n",
       "    .dataframe tbody tr th {\n",
       "        vertical-align: top;\n",
       "    }\n",
       "\n",
       "    .dataframe thead th {\n",
       "        text-align: right;\n",
       "    }\n",
       "</style>\n",
       "<table border=\"1\" class=\"dataframe\">\n",
       "  <thead>\n",
       "    <tr style=\"text-align: right;\">\n",
       "      <th></th>\n",
       "      <th>publisher_id</th>\n",
       "      <th>publisher</th>\n",
       "    </tr>\n",
       "  </thead>\n",
       "  <tbody>\n",
       "    <tr>\n",
       "      <th>0</th>\n",
       "      <td>1</td>\n",
       "      <td>Ace</td>\n",
       "    </tr>\n",
       "    <tr>\n",
       "      <th>1</th>\n",
       "      <td>2</td>\n",
       "      <td>Ace Book</td>\n",
       "    </tr>\n",
       "    <tr>\n",
       "      <th>2</th>\n",
       "      <td>3</td>\n",
       "      <td>Ace Books</td>\n",
       "    </tr>\n",
       "    <tr>\n",
       "      <th>3</th>\n",
       "      <td>4</td>\n",
       "      <td>Ace Hardcover</td>\n",
       "    </tr>\n",
       "    <tr>\n",
       "      <th>4</th>\n",
       "      <td>5</td>\n",
       "      <td>Addison Wesley Publishing Company</td>\n",
       "    </tr>\n",
       "  </tbody>\n",
       "</table>\n",
       "</div>"
      ],
      "text/plain": [
       "   publisher_id                          publisher\n",
       "0             1                                Ace\n",
       "1             2                           Ace Book\n",
       "2             3                          Ace Books\n",
       "3             4                      Ace Hardcover\n",
       "4             5  Addison Wesley Publishing Company"
      ]
     },
     "metadata": {},
     "output_type": "display_data"
    },
    {
     "name": "stdout",
     "output_type": "stream",
     "text": [
      "<class 'pandas.core.frame.DataFrame'>\n",
      "RangeIndex: 340 entries, 0 to 339\n",
      "Data columns (total 2 columns):\n",
      " #   Column        Non-Null Count  Dtype \n",
      "---  ------        --------------  ----- \n",
      " 0   publisher_id  340 non-null    int64 \n",
      " 1   publisher     340 non-null    object\n",
      "dtypes: int64(1), object(1)\n",
      "memory usage: 5.4+ KB\n",
      "None\n"
     ]
    }
   ],
   "source": [
    "publishers = (\n",
    "    ''' SELECT * \n",
    "        FROM publishers\n",
    "    ''')\n",
    "publishers = pd.io.sql.read_sql(publishers, con = engine) \n",
    "display(publishers.head())\n",
    "print(publishers.info())"
   ]
  },
  {
   "cell_type": "code",
   "execution_count": 5,
   "id": "cfe1c870",
   "metadata": {},
   "outputs": [
    {
     "data": {
      "text/html": [
       "<div>\n",
       "<style scoped>\n",
       "    .dataframe tbody tr th:only-of-type {\n",
       "        vertical-align: middle;\n",
       "    }\n",
       "\n",
       "    .dataframe tbody tr th {\n",
       "        vertical-align: top;\n",
       "    }\n",
       "\n",
       "    .dataframe thead th {\n",
       "        text-align: right;\n",
       "    }\n",
       "</style>\n",
       "<table border=\"1\" class=\"dataframe\">\n",
       "  <thead>\n",
       "    <tr style=\"text-align: right;\">\n",
       "      <th></th>\n",
       "      <th>rating_id</th>\n",
       "      <th>book_id</th>\n",
       "      <th>username</th>\n",
       "      <th>rating</th>\n",
       "    </tr>\n",
       "  </thead>\n",
       "  <tbody>\n",
       "    <tr>\n",
       "      <th>0</th>\n",
       "      <td>1</td>\n",
       "      <td>1</td>\n",
       "      <td>ryanfranco</td>\n",
       "      <td>4</td>\n",
       "    </tr>\n",
       "    <tr>\n",
       "      <th>1</th>\n",
       "      <td>2</td>\n",
       "      <td>1</td>\n",
       "      <td>grantpatricia</td>\n",
       "      <td>2</td>\n",
       "    </tr>\n",
       "    <tr>\n",
       "      <th>2</th>\n",
       "      <td>3</td>\n",
       "      <td>1</td>\n",
       "      <td>brandtandrea</td>\n",
       "      <td>5</td>\n",
       "    </tr>\n",
       "    <tr>\n",
       "      <th>3</th>\n",
       "      <td>4</td>\n",
       "      <td>2</td>\n",
       "      <td>lorichen</td>\n",
       "      <td>3</td>\n",
       "    </tr>\n",
       "    <tr>\n",
       "      <th>4</th>\n",
       "      <td>5</td>\n",
       "      <td>2</td>\n",
       "      <td>mariokeller</td>\n",
       "      <td>2</td>\n",
       "    </tr>\n",
       "  </tbody>\n",
       "</table>\n",
       "</div>"
      ],
      "text/plain": [
       "   rating_id  book_id       username  rating\n",
       "0          1        1     ryanfranco       4\n",
       "1          2        1  grantpatricia       2\n",
       "2          3        1   brandtandrea       5\n",
       "3          4        2       lorichen       3\n",
       "4          5        2    mariokeller       2"
      ]
     },
     "metadata": {},
     "output_type": "display_data"
    },
    {
     "name": "stdout",
     "output_type": "stream",
     "text": [
      "<class 'pandas.core.frame.DataFrame'>\n",
      "RangeIndex: 6456 entries, 0 to 6455\n",
      "Data columns (total 4 columns):\n",
      " #   Column     Non-Null Count  Dtype \n",
      "---  ------     --------------  ----- \n",
      " 0   rating_id  6456 non-null   int64 \n",
      " 1   book_id    6456 non-null   int64 \n",
      " 2   username   6456 non-null   object\n",
      " 3   rating     6456 non-null   int64 \n",
      "dtypes: int64(3), object(1)\n",
      "memory usage: 201.9+ KB\n",
      "None\n"
     ]
    }
   ],
   "source": [
    "ratings = (\n",
    "    ''' SELECT * \n",
    "        FROM ratings\n",
    "    ''')\n",
    "ratings = pd.io.sql.read_sql(ratings, con = engine) \n",
    "display(ratings.head())\n",
    "print(ratings.info())"
   ]
  },
  {
   "cell_type": "code",
   "execution_count": 6,
   "id": "9eb9c3a8",
   "metadata": {},
   "outputs": [
    {
     "data": {
      "text/html": [
       "<div>\n",
       "<style scoped>\n",
       "    .dataframe tbody tr th:only-of-type {\n",
       "        vertical-align: middle;\n",
       "    }\n",
       "\n",
       "    .dataframe tbody tr th {\n",
       "        vertical-align: top;\n",
       "    }\n",
       "\n",
       "    .dataframe thead th {\n",
       "        text-align: right;\n",
       "    }\n",
       "</style>\n",
       "<table border=\"1\" class=\"dataframe\">\n",
       "  <thead>\n",
       "    <tr style=\"text-align: right;\">\n",
       "      <th></th>\n",
       "      <th>review_id</th>\n",
       "      <th>book_id</th>\n",
       "      <th>username</th>\n",
       "      <th>text</th>\n",
       "    </tr>\n",
       "  </thead>\n",
       "  <tbody>\n",
       "    <tr>\n",
       "      <th>0</th>\n",
       "      <td>1</td>\n",
       "      <td>1</td>\n",
       "      <td>brandtandrea</td>\n",
       "      <td>Mention society tell send professor analysis. ...</td>\n",
       "    </tr>\n",
       "    <tr>\n",
       "      <th>1</th>\n",
       "      <td>2</td>\n",
       "      <td>1</td>\n",
       "      <td>ryanfranco</td>\n",
       "      <td>Foot glass pretty audience hit themselves. Amo...</td>\n",
       "    </tr>\n",
       "    <tr>\n",
       "      <th>2</th>\n",
       "      <td>3</td>\n",
       "      <td>2</td>\n",
       "      <td>lorichen</td>\n",
       "      <td>Listen treat keep worry. Miss husband tax but ...</td>\n",
       "    </tr>\n",
       "    <tr>\n",
       "      <th>3</th>\n",
       "      <td>4</td>\n",
       "      <td>3</td>\n",
       "      <td>johnsonamanda</td>\n",
       "      <td>Finally month interesting blue could nature cu...</td>\n",
       "    </tr>\n",
       "    <tr>\n",
       "      <th>4</th>\n",
       "      <td>5</td>\n",
       "      <td>3</td>\n",
       "      <td>scotttamara</td>\n",
       "      <td>Nation purpose heavy give wait song will. List...</td>\n",
       "    </tr>\n",
       "  </tbody>\n",
       "</table>\n",
       "</div>"
      ],
      "text/plain": [
       "   review_id  book_id       username  \\\n",
       "0          1        1   brandtandrea   \n",
       "1          2        1     ryanfranco   \n",
       "2          3        2       lorichen   \n",
       "3          4        3  johnsonamanda   \n",
       "4          5        3    scotttamara   \n",
       "\n",
       "                                                text  \n",
       "0  Mention society tell send professor analysis. ...  \n",
       "1  Foot glass pretty audience hit themselves. Amo...  \n",
       "2  Listen treat keep worry. Miss husband tax but ...  \n",
       "3  Finally month interesting blue could nature cu...  \n",
       "4  Nation purpose heavy give wait song will. List...  "
      ]
     },
     "metadata": {},
     "output_type": "display_data"
    },
    {
     "name": "stdout",
     "output_type": "stream",
     "text": [
      "<class 'pandas.core.frame.DataFrame'>\n",
      "RangeIndex: 2793 entries, 0 to 2792\n",
      "Data columns (total 4 columns):\n",
      " #   Column     Non-Null Count  Dtype \n",
      "---  ------     --------------  ----- \n",
      " 0   review_id  2793 non-null   int64 \n",
      " 1   book_id    2793 non-null   int64 \n",
      " 2   username   2793 non-null   object\n",
      " 3   text       2793 non-null   object\n",
      "dtypes: int64(2), object(2)\n",
      "memory usage: 87.4+ KB\n",
      "None\n"
     ]
    }
   ],
   "source": [
    "reviews = (\n",
    "    ''' SELECT * \n",
    "        FROM reviews\n",
    "    ''')\n",
    "reviews = pd.io.sql.read_sql(reviews, con = engine) \n",
    "display(reviews.head())\n",
    "print(reviews.info())"
   ]
  },
  {
   "cell_type": "markdown",
   "id": "f851a5d6",
   "metadata": {},
   "source": [
    "### Задание 1  \n",
    "Посчитайте, сколько книг вышло после 1 января 2000 года;"
   ]
  },
  {
   "cell_type": "code",
   "execution_count": 7,
   "id": "28d6397b",
   "metadata": {},
   "outputs": [
    {
     "data": {
      "text/html": [
       "<div>\n",
       "<style scoped>\n",
       "    .dataframe tbody tr th:only-of-type {\n",
       "        vertical-align: middle;\n",
       "    }\n",
       "\n",
       "    .dataframe tbody tr th {\n",
       "        vertical-align: top;\n",
       "    }\n",
       "\n",
       "    .dataframe thead th {\n",
       "        text-align: right;\n",
       "    }\n",
       "</style>\n",
       "<table border=\"1\" class=\"dataframe\">\n",
       "  <thead>\n",
       "    <tr style=\"text-align: right;\">\n",
       "      <th></th>\n",
       "      <th>count</th>\n",
       "    </tr>\n",
       "  </thead>\n",
       "  <tbody>\n",
       "    <tr>\n",
       "      <th>0</th>\n",
       "      <td>819</td>\n",
       "    </tr>\n",
       "  </tbody>\n",
       "</table>\n",
       "</div>"
      ],
      "text/plain": [
       "   count\n",
       "0    819"
      ]
     },
     "execution_count": 7,
     "metadata": {},
     "output_type": "execute_result"
    }
   ],
   "source": [
    "query = '''\n",
    "        SELECT COUNT(DISTINCT book_id)\n",
    "        FROM books\n",
    "        WHERE publication_date > '2000-01-01'\n",
    "        '''   \n",
    "\n",
    "pd.io.sql.read_sql(query, con = engine) "
   ]
  },
  {
   "cell_type": "markdown",
   "id": "434fe21e",
   "metadata": {},
   "source": [
    "Всего книг 1000 из них 819 книг вышло после 1 января 2000 года."
   ]
  },
  {
   "cell_type": "markdown",
   "id": "98cdcd71",
   "metadata": {},
   "source": [
    "### Задание 2  \n",
    "Для каждой книги посчитайте количество обзоров и среднюю оценку;"
   ]
  },
  {
   "cell_type": "code",
   "execution_count": 8,
   "id": "3643d391",
   "metadata": {
    "scrolled": true
   },
   "outputs": [
    {
     "data": {
      "text/html": [
       "<div>\n",
       "<style scoped>\n",
       "    .dataframe tbody tr th:only-of-type {\n",
       "        vertical-align: middle;\n",
       "    }\n",
       "\n",
       "    .dataframe tbody tr th {\n",
       "        vertical-align: top;\n",
       "    }\n",
       "\n",
       "    .dataframe thead th {\n",
       "        text-align: right;\n",
       "    }\n",
       "</style>\n",
       "<table border=\"1\" class=\"dataframe\">\n",
       "  <thead>\n",
       "    <tr style=\"text-align: right;\">\n",
       "      <th></th>\n",
       "      <th>title</th>\n",
       "      <th>count</th>\n",
       "      <th>average_score</th>\n",
       "    </tr>\n",
       "  </thead>\n",
       "  <tbody>\n",
       "    <tr>\n",
       "      <th>0</th>\n",
       "      <td>Arrows of the Queen (Heralds of Valdemar  #1)</td>\n",
       "      <td>2</td>\n",
       "      <td>5.0</td>\n",
       "    </tr>\n",
       "    <tr>\n",
       "      <th>1</th>\n",
       "      <td>Crucial Conversations: Tools for Talking When ...</td>\n",
       "      <td>2</td>\n",
       "      <td>5.0</td>\n",
       "    </tr>\n",
       "    <tr>\n",
       "      <th>2</th>\n",
       "      <td>Alas  Babylon</td>\n",
       "      <td>2</td>\n",
       "      <td>5.0</td>\n",
       "    </tr>\n",
       "    <tr>\n",
       "      <th>3</th>\n",
       "      <td>Act of Treason (Mitch Rapp  #9)</td>\n",
       "      <td>2</td>\n",
       "      <td>5.0</td>\n",
       "    </tr>\n",
       "    <tr>\n",
       "      <th>4</th>\n",
       "      <td>Angels Fall</td>\n",
       "      <td>2</td>\n",
       "      <td>5.0</td>\n",
       "    </tr>\n",
       "    <tr>\n",
       "      <th>5</th>\n",
       "      <td>Captivating: Unveiling the Mystery of a Woman'...</td>\n",
       "      <td>2</td>\n",
       "      <td>5.0</td>\n",
       "    </tr>\n",
       "    <tr>\n",
       "      <th>6</th>\n",
       "      <td>A Woman of Substance (Emma Harte Saga #1)</td>\n",
       "      <td>2</td>\n",
       "      <td>5.0</td>\n",
       "    </tr>\n",
       "    <tr>\n",
       "      <th>7</th>\n",
       "      <td>A Fistful of Charms (The Hollows  #4)</td>\n",
       "      <td>2</td>\n",
       "      <td>5.0</td>\n",
       "    </tr>\n",
       "    <tr>\n",
       "      <th>8</th>\n",
       "      <td>A Dirty Job (Grim Reaper  #1)</td>\n",
       "      <td>4</td>\n",
       "      <td>5.0</td>\n",
       "    </tr>\n",
       "    <tr>\n",
       "      <th>9</th>\n",
       "      <td>Dead Souls</td>\n",
       "      <td>2</td>\n",
       "      <td>5.0</td>\n",
       "    </tr>\n",
       "  </tbody>\n",
       "</table>\n",
       "</div>"
      ],
      "text/plain": [
       "                                               title  count  average_score\n",
       "0      Arrows of the Queen (Heralds of Valdemar  #1)      2            5.0\n",
       "1  Crucial Conversations: Tools for Talking When ...      2            5.0\n",
       "2                                      Alas  Babylon      2            5.0\n",
       "3                    Act of Treason (Mitch Rapp  #9)      2            5.0\n",
       "4                                        Angels Fall      2            5.0\n",
       "5  Captivating: Unveiling the Mystery of a Woman'...      2            5.0\n",
       "6          A Woman of Substance (Emma Harte Saga #1)      2            5.0\n",
       "7              A Fistful of Charms (The Hollows  #4)      2            5.0\n",
       "8                      A Dirty Job (Grim Reaper  #1)      4            5.0\n",
       "9                                         Dead Souls      2            5.0"
      ]
     },
     "execution_count": 8,
     "metadata": {},
     "output_type": "execute_result"
    }
   ],
   "source": [
    "query ='''\n",
    "SELECT\n",
    "    books.title,\n",
    "    COUNT(DISTINCT reviews.review_id),\n",
    "    AVG(ratings.rating) AS average_score\n",
    "FROM\n",
    "    books\n",
    "    JOIN reviews ON reviews.book_id = books.book_id\n",
    "    JOIN ratings ON ratings.book_id = books.book_id\n",
    "GROUP BY\n",
    "    books.title, books.book_id\n",
    "ORDER BY\n",
    "    average_score DESC\n",
    "\n",
    "LIMIT 10 \n",
    "       '''\n",
    "\n",
    "pd.io.sql.read_sql(query, con = engine) "
   ]
  },
  {
   "cell_type": "markdown",
   "id": "89ae9cba",
   "metadata": {},
   "source": [
    "Посчитали количество обзоров и среднюю оценку для книг, в первые топ 10 попали книги с оценкой 5 и количеством обзоров 2, за исключением одной книги."
   ]
  },
  {
   "cell_type": "markdown",
   "id": "d5821e92",
   "metadata": {},
   "source": [
    "### Задание 3   \n",
    "Определите издательство, которое выпустило наибольшее число книг толще 50 страниц — так вы исключите из анализа брошюры;"
   ]
  },
  {
   "cell_type": "code",
   "execution_count": 9,
   "id": "95e7062b",
   "metadata": {},
   "outputs": [
    {
     "data": {
      "text/html": [
       "<div>\n",
       "<style scoped>\n",
       "    .dataframe tbody tr th:only-of-type {\n",
       "        vertical-align: middle;\n",
       "    }\n",
       "\n",
       "    .dataframe tbody tr th {\n",
       "        vertical-align: top;\n",
       "    }\n",
       "\n",
       "    .dataframe thead th {\n",
       "        text-align: right;\n",
       "    }\n",
       "</style>\n",
       "<table border=\"1\" class=\"dataframe\">\n",
       "  <thead>\n",
       "    <tr style=\"text-align: right;\">\n",
       "      <th></th>\n",
       "      <th>publisher</th>\n",
       "      <th>number_books</th>\n",
       "    </tr>\n",
       "  </thead>\n",
       "  <tbody>\n",
       "    <tr>\n",
       "      <th>0</th>\n",
       "      <td>Penguin Books</td>\n",
       "      <td>42</td>\n",
       "    </tr>\n",
       "    <tr>\n",
       "      <th>1</th>\n",
       "      <td>Vintage</td>\n",
       "      <td>31</td>\n",
       "    </tr>\n",
       "    <tr>\n",
       "      <th>2</th>\n",
       "      <td>Grand Central Publishing</td>\n",
       "      <td>25</td>\n",
       "    </tr>\n",
       "    <tr>\n",
       "      <th>3</th>\n",
       "      <td>Penguin Classics</td>\n",
       "      <td>24</td>\n",
       "    </tr>\n",
       "    <tr>\n",
       "      <th>4</th>\n",
       "      <td>Ballantine Books</td>\n",
       "      <td>19</td>\n",
       "    </tr>\n",
       "  </tbody>\n",
       "</table>\n",
       "</div>"
      ],
      "text/plain": [
       "                  publisher  number_books\n",
       "0             Penguin Books            42\n",
       "1                   Vintage            31\n",
       "2  Grand Central Publishing            25\n",
       "3          Penguin Classics            24\n",
       "4          Ballantine Books            19"
      ]
     },
     "execution_count": 9,
     "metadata": {},
     "output_type": "execute_result"
    }
   ],
   "source": [
    "query ='''\n",
    "SELECT\n",
    "    publishers.publisher,\n",
    "    COUNT(DISTINCT books.book_id) AS number_books\n",
    "FROM\n",
    "    books JOIN publishers ON publishers.publisher_id = books.publisher_id\n",
    "WHERE \n",
    "    books.num_pages > 50\n",
    "GROUP BY\n",
    "    publishers.publisher\n",
    "ORDER BY\n",
    "    number_books DESC\n",
    "\n",
    "LIMIT 5 \n",
    "       '''\n",
    "\n",
    "pd.io.sql.read_sql(query, con = engine) "
   ]
  },
  {
   "cell_type": "markdown",
   "id": "20db1e05",
   "metadata": {},
   "source": [
    "Издательства: Penguin Books, Vintage, Grand Central Publishing, Penguin Classics, Bantam выпустили наибольшее число книг толще 50 страниц. Penguin Books лидирует с количеством книг 42."
   ]
  },
  {
   "cell_type": "markdown",
   "id": "595414a6",
   "metadata": {},
   "source": [
    "### Задание 4   \n",
    "Определите автора с самой высокой средней оценкой книг — учитывайте только книги с 50 и более оценками;"
   ]
  },
  {
   "cell_type": "code",
   "execution_count": 10,
   "id": "4c0b70b8",
   "metadata": {},
   "outputs": [
    {
     "data": {
      "text/html": [
       "<div>\n",
       "<style scoped>\n",
       "    .dataframe tbody tr th:only-of-type {\n",
       "        vertical-align: middle;\n",
       "    }\n",
       "\n",
       "    .dataframe tbody tr th {\n",
       "        vertical-align: top;\n",
       "    }\n",
       "\n",
       "    .dataframe thead th {\n",
       "        text-align: right;\n",
       "    }\n",
       "</style>\n",
       "<table border=\"1\" class=\"dataframe\">\n",
       "  <thead>\n",
       "    <tr style=\"text-align: right;\">\n",
       "      <th></th>\n",
       "      <th>author</th>\n",
       "      <th>average_rating</th>\n",
       "    </tr>\n",
       "  </thead>\n",
       "  <tbody>\n",
       "    <tr>\n",
       "      <th>0</th>\n",
       "      <td>J.K. Rowling/Mary GrandPré</td>\n",
       "      <td>4.283844</td>\n",
       "    </tr>\n",
       "    <tr>\n",
       "      <th>1</th>\n",
       "      <td>Markus Zusak/Cao Xuân Việt Khương</td>\n",
       "      <td>4.264151</td>\n",
       "    </tr>\n",
       "    <tr>\n",
       "      <th>2</th>\n",
       "      <td>J.R.R. Tolkien</td>\n",
       "      <td>4.258446</td>\n",
       "    </tr>\n",
       "    <tr>\n",
       "      <th>3</th>\n",
       "      <td>Louisa May Alcott</td>\n",
       "      <td>4.192308</td>\n",
       "    </tr>\n",
       "    <tr>\n",
       "      <th>4</th>\n",
       "      <td>Rick Riordan</td>\n",
       "      <td>4.080645</td>\n",
       "    </tr>\n",
       "  </tbody>\n",
       "</table>\n",
       "</div>"
      ],
      "text/plain": [
       "                              author  average_rating\n",
       "0         J.K. Rowling/Mary GrandPré        4.283844\n",
       "1  Markus Zusak/Cao Xuân Việt Khương        4.264151\n",
       "2                     J.R.R. Tolkien        4.258446\n",
       "3                  Louisa May Alcott        4.192308\n",
       "4                       Rick Riordan        4.080645"
      ]
     },
     "execution_count": 10,
     "metadata": {},
     "output_type": "execute_result"
    }
   ],
   "source": [
    "query = ''' \n",
    "SELECT \n",
    "    author_avg.author,\n",
    "    AVG(author_avg.rating_avg) AS average_rating\n",
    "FROM\n",
    "        (SELECT \n",
    "            authors.author AS author,\n",
    "            AVG(ratings.rating) AS rating_avg\n",
    "        FROM books\n",
    "            LEFT JOIN authors ON books.author_id = authors.author_id\n",
    "            LEFT JOIN ratings ON books.book_id = ratings.book_id\n",
    "        GROUP BY \n",
    "             books.book_id,\n",
    "             authors.author_id\n",
    "        HAVING\n",
    "            COUNT(ratings.rating_id) >=50) AS author_avg \n",
    "GROUP BY    \n",
    "    author_avg.author\n",
    "ORDER BY\n",
    "    average_rating DESC\n",
    "LIMIT 5\n",
    "        ''' \n",
    "pd.io.sql.read_sql(query, con = engine) "
   ]
  },
  {
   "cell_type": "markdown",
   "id": "d0e79806",
   "metadata": {},
   "source": [
    "Автор с самой высокой средней оценкой книг - J.K. Rowling/Mary GrandPré со средней оценкой 4.28"
   ]
  },
  {
   "cell_type": "markdown",
   "id": "85f6c2bf",
   "metadata": {},
   "source": [
    "### Задание 5  \n",
    "Посчитайте среднее количество обзоров от пользователей, которые поставили больше 50 оценок."
   ]
  },
  {
   "cell_type": "code",
   "execution_count": 11,
   "id": "dc3e0a84",
   "metadata": {},
   "outputs": [
    {
     "data": {
      "text/html": [
       "<div>\n",
       "<style scoped>\n",
       "    .dataframe tbody tr th:only-of-type {\n",
       "        vertical-align: middle;\n",
       "    }\n",
       "\n",
       "    .dataframe tbody tr th {\n",
       "        vertical-align: top;\n",
       "    }\n",
       "\n",
       "    .dataframe thead th {\n",
       "        text-align: right;\n",
       "    }\n",
       "</style>\n",
       "<table border=\"1\" class=\"dataframe\">\n",
       "  <thead>\n",
       "    <tr style=\"text-align: right;\">\n",
       "      <th></th>\n",
       "      <th>average</th>\n",
       "    </tr>\n",
       "  </thead>\n",
       "  <tbody>\n",
       "    <tr>\n",
       "      <th>0</th>\n",
       "      <td>24.333333</td>\n",
       "    </tr>\n",
       "  </tbody>\n",
       "</table>\n",
       "</div>"
      ],
      "text/plain": [
       "     average\n",
       "0  24.333333"
      ]
     },
     "execution_count": 11,
     "metadata": {},
     "output_type": "execute_result"
    }
   ],
   "source": [
    "query = '''\n",
    "SELECT\n",
    "  AVG (count_reviews) AS average\n",
    "  FROM\n",
    "  (\n",
    "    SELECT\n",
    "      COUNT (review_id) AS count_reviews\n",
    "    FROM\n",
    "      reviews\n",
    "    JOIN\n",
    "     (SELECT\n",
    "       username,\n",
    "       COUNT (rating_id) AS count_ratings\n",
    "      FROM\n",
    "       ratings\n",
    "      GROUP BY\n",
    "       username\n",
    "      HAVING COUNT (rating_id) > 50 ) AS ratings_users ON ratings_users.username = reviews.username\n",
    "      GROUP BY\n",
    "       reviews.username\n",
    "   ) AS count_reviews\n",
    "          '''\n",
    "\n",
    "pd.io.sql.read_sql(query, con = engine) "
   ]
  },
  {
   "cell_type": "markdown",
   "id": "53ad9b6b",
   "metadata": {},
   "source": [
    "Среднее количество обзоров от пользователей, которые поставили больше 50 оценок равняется 24."
   ]
  },
  {
   "cell_type": "markdown",
   "id": "e4c56287",
   "metadata": {},
   "source": [
    "## Итоговый вывод"
   ]
  },
  {
   "cell_type": "markdown",
   "id": "353a763f",
   "metadata": {},
   "source": [
    "В ходе работы были проанализированы данные по сервису для чтения книг по подписке.\n",
    "* Сервис хранит 1000 книг из них 819 книг вышло после 1 января 2000 года. Т.е. наибольшее число книг это современная литература.  \n",
    "* Далее посчитали количество обзоров и среднюю оценку для книг, в первые топ 10 попали книги с оценкой 5 и количеством обзоров 2, значит сервис хранит достаточно популярные книги.  \n",
    "* Определили издательство, которое выпустило наибольшее число книг толще 50 страниц - это издательство Penguin Books, оно лидирует с количеством книг 42.   \n",
    "* Автором с самой высокой средней оценкой книг оказалась J.K. Rowling/Mary GrandPré со средней оценкой 4.28.   \n",
    "* Так же было посчитано среднее количество обзоров от пользователей, которые поставили больше 50 оценок, оно равняется 24.  \n",
    "По итогу первичного анализа базы данных можно сказать, что сервис содержит современные и популярные книги, а пользователи сервиса оставляют оценки и обзоры на книги. Предварительно можно сделать вывод, что пользователи довольны сервисом, стоит развивать сервис в том же направлении."
   ]
  }
 ],
 "metadata": {
  "ExecuteTimeLog": [
   {
    "duration": 48,
    "start_time": "2022-06-20T07:45:31.083Z"
   },
   {
    "duration": 10044,
    "start_time": "2022-06-20T07:45:38.988Z"
   },
   {
    "duration": 299,
    "start_time": "2022-06-20T07:45:49.034Z"
   },
   {
    "duration": 79,
    "start_time": "2022-06-20T07:45:49.335Z"
   },
   {
    "duration": 79,
    "start_time": "2022-06-20T07:45:49.416Z"
   },
   {
    "duration": 112,
    "start_time": "2022-06-20T07:45:49.496Z"
   },
   {
    "duration": 96,
    "start_time": "2022-06-20T07:45:49.609Z"
   },
   {
    "duration": 3084,
    "start_time": "2022-06-20T07:45:49.706Z"
   },
   {
    "duration": 89,
    "start_time": "2022-06-20T07:45:52.792Z"
   },
   {
    "duration": 88,
    "start_time": "2022-06-20T07:45:52.883Z"
   },
   {
    "duration": 73,
    "start_time": "2022-06-20T07:45:52.974Z"
   },
   {
    "duration": 74,
    "start_time": "2022-06-20T07:45:53.049Z"
   },
   {
    "duration": 73,
    "start_time": "2022-06-20T07:45:53.125Z"
   },
   {
    "duration": 9765,
    "start_time": "2022-06-20T09:44:26.631Z"
   },
   {
    "duration": 71,
    "start_time": "2022-06-20T09:44:36.398Z"
   },
   {
    "duration": 15,
    "start_time": "2022-06-20T09:44:36.470Z"
   },
   {
    "duration": 14,
    "start_time": "2022-06-20T09:44:36.486Z"
   },
   {
    "duration": 26,
    "start_time": "2022-06-20T09:44:36.502Z"
   },
   {
    "duration": 21,
    "start_time": "2022-06-20T09:44:36.529Z"
   },
   {
    "duration": 8,
    "start_time": "2022-06-20T09:44:36.551Z"
   },
   {
    "duration": 33,
    "start_time": "2022-06-20T09:44:36.561Z"
   },
   {
    "duration": 11,
    "start_time": "2022-06-20T09:44:36.595Z"
   },
   {
    "duration": 14,
    "start_time": "2022-06-20T09:44:36.607Z"
   },
   {
    "duration": 10,
    "start_time": "2022-06-20T09:44:36.622Z"
   },
   {
    "duration": 32,
    "start_time": "2022-06-20T09:45:53.270Z"
   },
   {
    "duration": 22,
    "start_time": "2022-06-20T09:46:32.617Z"
   },
   {
    "duration": 148,
    "start_time": "2022-06-20T10:01:45.870Z"
   },
   {
    "duration": 15,
    "start_time": "2022-06-20T10:01:56.382Z"
   },
   {
    "duration": 92,
    "start_time": "2022-06-20T10:02:14.694Z"
   },
   {
    "duration": 13,
    "start_time": "2022-06-20T10:02:22.425Z"
   },
   {
    "duration": 16,
    "start_time": "2022-06-20T10:11:40.107Z"
   },
   {
    "duration": 272,
    "start_time": "2022-06-20T10:20:25.354Z"
   },
   {
    "duration": 16,
    "start_time": "2022-06-20T10:20:52.490Z"
   },
   {
    "duration": 17,
    "start_time": "2022-06-20T10:21:54.827Z"
   },
   {
    "duration": 15,
    "start_time": "2022-06-20T10:22:35.011Z"
   },
   {
    "duration": 16,
    "start_time": "2022-06-20T10:22:56.348Z"
   },
   {
    "duration": 16,
    "start_time": "2022-06-20T10:27:22.284Z"
   },
   {
    "duration": 16,
    "start_time": "2022-06-20T10:27:29.050Z"
   },
   {
    "duration": 86,
    "start_time": "2022-06-20T10:27:44.303Z"
   },
   {
    "duration": 16,
    "start_time": "2022-06-20T10:27:54.780Z"
   },
   {
    "duration": 16,
    "start_time": "2022-06-20T10:28:09.190Z"
   },
   {
    "duration": 17,
    "start_time": "2022-06-20T10:28:22.952Z"
   },
   {
    "duration": 15,
    "start_time": "2022-06-20T10:28:32.775Z"
   },
   {
    "duration": 17,
    "start_time": "2022-06-20T10:28:46.241Z"
   },
   {
    "duration": 95,
    "start_time": "2022-06-20T10:29:14.370Z"
   },
   {
    "duration": 21,
    "start_time": "2022-06-20T10:29:33.768Z"
   },
   {
    "duration": 15,
    "start_time": "2022-06-20T10:30:12.568Z"
   },
   {
    "duration": 15,
    "start_time": "2022-06-20T10:31:50.278Z"
   },
   {
    "duration": 15,
    "start_time": "2022-06-20T10:31:59.133Z"
   },
   {
    "duration": 127,
    "start_time": "2022-06-20T10:38:35.810Z"
   },
   {
    "duration": 16,
    "start_time": "2022-06-20T10:38:51.767Z"
   },
   {
    "duration": 96,
    "start_time": "2022-06-20T10:39:32.142Z"
   },
   {
    "duration": 15,
    "start_time": "2022-06-20T10:41:44.133Z"
   },
   {
    "duration": 15,
    "start_time": "2022-06-20T10:42:01.050Z"
   },
   {
    "duration": 90,
    "start_time": "2022-06-20T10:42:51.425Z"
   },
   {
    "duration": 100,
    "start_time": "2022-06-20T10:45:00.284Z"
   },
   {
    "duration": 16,
    "start_time": "2022-06-20T10:45:24.214Z"
   },
   {
    "duration": 15,
    "start_time": "2022-06-20T10:45:37.908Z"
   },
   {
    "duration": 16,
    "start_time": "2022-06-20T10:45:43.684Z"
   },
   {
    "duration": 88,
    "start_time": "2022-06-20T10:50:52.556Z"
   },
   {
    "duration": 129,
    "start_time": "2022-06-20T10:52:39.860Z"
   },
   {
    "duration": 17,
    "start_time": "2022-06-20T10:55:32.869Z"
   },
   {
    "duration": 106,
    "start_time": "2022-06-20T10:59:04.234Z"
   },
   {
    "duration": 15,
    "start_time": "2022-06-20T10:59:54.291Z"
   },
   {
    "duration": 113,
    "start_time": "2022-06-20T11:01:17.736Z"
   },
   {
    "duration": 16,
    "start_time": "2022-06-20T11:02:56.209Z"
   },
   {
    "duration": 15,
    "start_time": "2022-06-20T11:04:18.051Z"
   },
   {
    "duration": 15,
    "start_time": "2022-06-20T11:05:15.156Z"
   },
   {
    "duration": 94,
    "start_time": "2022-06-20T11:05:55.555Z"
   },
   {
    "duration": 16,
    "start_time": "2022-06-20T11:06:05.957Z"
   },
   {
    "duration": 14,
    "start_time": "2022-06-20T11:09:09.370Z"
   },
   {
    "duration": 99,
    "start_time": "2022-06-20T11:09:41.667Z"
   },
   {
    "duration": 20,
    "start_time": "2022-06-20T11:09:47.957Z"
   },
   {
    "duration": 21,
    "start_time": "2022-06-20T11:10:25.791Z"
   },
   {
    "duration": 22,
    "start_time": "2022-06-20T11:10:35.796Z"
   },
   {
    "duration": 22,
    "start_time": "2022-06-20T11:10:54.537Z"
   },
   {
    "duration": 14,
    "start_time": "2022-06-20T11:11:21.320Z"
   },
   {
    "duration": 32,
    "start_time": "2022-06-20T11:11:48.040Z"
   },
   {
    "duration": 21,
    "start_time": "2022-06-20T11:12:11.871Z"
   },
   {
    "duration": 3,
    "start_time": "2022-06-20T11:12:38.976Z"
   },
   {
    "duration": 71,
    "start_time": "2022-06-20T11:12:38.981Z"
   },
   {
    "duration": 16,
    "start_time": "2022-06-20T11:12:39.053Z"
   },
   {
    "duration": 15,
    "start_time": "2022-06-20T11:12:39.071Z"
   },
   {
    "duration": 29,
    "start_time": "2022-06-20T11:12:39.088Z"
   },
   {
    "duration": 21,
    "start_time": "2022-06-20T11:12:39.118Z"
   },
   {
    "duration": 9,
    "start_time": "2022-06-20T11:12:39.141Z"
   },
   {
    "duration": 21,
    "start_time": "2022-06-20T11:12:39.151Z"
   },
   {
    "duration": 10,
    "start_time": "2022-06-20T11:12:39.174Z"
   },
   {
    "duration": 20,
    "start_time": "2022-06-20T11:12:39.186Z"
   },
   {
    "duration": 11,
    "start_time": "2022-06-20T11:12:39.207Z"
   },
   {
    "duration": 121,
    "start_time": "2022-06-20T11:14:17.501Z"
   },
   {
    "duration": 141,
    "start_time": "2022-06-20T11:14:44.677Z"
   },
   {
    "duration": 137,
    "start_time": "2022-06-20T11:15:46.699Z"
   },
   {
    "duration": 11,
    "start_time": "2022-06-20T11:15:53.659Z"
   },
   {
    "duration": 4,
    "start_time": "2022-06-20T11:35:38.173Z"
   },
   {
    "duration": 70,
    "start_time": "2022-06-20T11:35:38.179Z"
   },
   {
    "duration": 18,
    "start_time": "2022-06-20T11:35:38.251Z"
   },
   {
    "duration": 17,
    "start_time": "2022-06-20T11:35:38.271Z"
   },
   {
    "duration": 58,
    "start_time": "2022-06-20T11:35:38.290Z"
   },
   {
    "duration": 23,
    "start_time": "2022-06-20T11:35:38.350Z"
   },
   {
    "duration": 20,
    "start_time": "2022-06-20T11:35:38.375Z"
   },
   {
    "duration": 33,
    "start_time": "2022-06-20T11:35:38.396Z"
   },
   {
    "duration": 10,
    "start_time": "2022-06-20T11:35:38.431Z"
   },
   {
    "duration": 14,
    "start_time": "2022-06-20T11:35:38.444Z"
   },
   {
    "duration": 11,
    "start_time": "2022-06-20T11:35:38.460Z"
   }
  ],
  "kernelspec": {
   "display_name": "Python 3 (ipykernel)",
   "language": "python",
   "name": "python3"
  },
  "language_info": {
   "codemirror_mode": {
    "name": "ipython",
    "version": 3
   },
   "file_extension": ".py",
   "mimetype": "text/x-python",
   "name": "python",
   "nbconvert_exporter": "python",
   "pygments_lexer": "ipython3",
   "version": "3.9.7"
  },
  "toc": {
   "base_numbering": 1,
   "nav_menu": {},
   "number_sections": true,
   "sideBar": true,
   "skip_h1_title": false,
   "title_cell": "Table of Contents",
   "title_sidebar": "Contents",
   "toc_cell": false,
   "toc_position": {
    "height": "calc(100% - 180px)",
    "left": "10px",
    "top": "150px",
    "width": "286.237px"
   },
   "toc_section_display": true,
   "toc_window_display": true
  }
 },
 "nbformat": 4,
 "nbformat_minor": 5
}
